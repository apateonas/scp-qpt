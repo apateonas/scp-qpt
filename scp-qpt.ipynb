{
 "cells": [
  {
   "cell_type": "code",
   "execution_count": null,
   "metadata": {},
   "outputs": [],
   "source": [
    "using LinearAlgebra\n",
    "using Convex, SCS\n",
    "using Plots\n",
    "using Statistics"
   ]
  },
  {
   "cell_type": "code",
   "execution_count": null,
   "metadata": {},
   "outputs": [],
   "source": [
    "function randomkraus(D, M)\n",
    "    Ks = [randn(D, D) for _ in 1:M]\n",
    "    a = sum(K'K for K in Ks)\n",
    "    b = sqrt(inv(a))\n",
    "    return [K * b for K in Ks]\n",
    "end\n",
    "\n",
    "function randomdensity(D)\n",
    "    v = randn(D)\n",
    "    ψ = v / norm(v)\n",
    "    return ψ * ψ'\n",
    "end\n",
    "\n",
    "applychannel(ρ, Ks) = sum(K * ρ * K' for K in Ks)"
   ]
  },
  {
   "cell_type": "code",
   "execution_count": null,
   "metadata": {},
   "outputs": [],
   "source": [
    "# Objectives\n",
    "\n",
    "# Extend\n",
    "Convex.square(x::Float64) = x^2\n",
    "\n",
    "# opdiff: score of difference between two lists of operators\n",
    "opsdiff(Ksleft, Ksright) = sum(square(norm(vec(Kl - Kr), 2)) for (Kl, Kr) in zip(Ksleft, Ksright))\n",
    "\n",
    "# singleobj: score of difference between channel output and target state\n",
    "singleobj(ρ₀, ρ₁, Ks) = square(norm(vec(sum(K * ρ₀ * K' for K in Ks) - ρ₁), 2))\n",
    "\n",
    "# obj: score of difference between channel outputs and target states\n",
    "obj(ρ0s, ρ1s, Ks) = sum(singleobj(ρ0, ρ1, Ks) for (ρ0, ρ1) in zip(ρ0s, ρ1s))\n",
    "\n",
    "# diffobj: score of difference between output of channel with different left/right operators and target state\n",
    "singlediffobj(Ksleft, ρ₀, Ksright, ρ₁) = square(norm(vec(sum(Kl * ρ₀ * Kr' for (Kl, Kr) in zip(Ksleft, Ksright)) - ρ₁), 2))\n",
    "\n",
    "# obj: score of difference between channel outputs and target states\n",
    "diffobj(Ksleft, ρ0s, Ksright, ρ1s) = 1/length(ρ0s) * sum(singlediffobj(Ksleft, ρ0, Ksright, ρ1) for (ρ0, ρ1) in zip(ρ0s, ρ1s))\n",
    "\n",
    "# krausnorm: norm of left/right Kraus operators\n",
    "krausnorm(Ks) = sum(K'K for K in Ks)\n",
    "krausnorm(Ksleft, Ksright) = sum(Kr'Kl for (Kl, Kr) in zip(Ksleft, Ksright))\n",
    "\n",
    "# objective with different Kraus operators on left and right. Scale regularization λ by the number of Kraus operators\n",
    "regobj(Ksleft, ρ0s, Ksright, ρ1s, λ) = diffobj(Ksleft, ρ0s, Ksright, ρ1s) + λ/length(Ksleft) * opsdiff(Ksleft, Ksright)\n",
    "\n",
    "function seqoptmult(ρ0s, ρ1s, Ksinit; λ, niters)\n",
    "    D = size(ρ0s[1])[1]\n",
    "    M = length(Ksinit)\n",
    "    objvals = [] # list of objective values over iterations\n",
    "    regobjvals = [] # list of objective (with regularization) values\n",
    "    opsdiffs = [] # list of difference scores between left and right Kraus operators\n",
    "\n",
    "    Kscurr = copy(Ksinit)\n",
    "    push!(objvals, obj(ρ0s, ρ1s, Kscurr))\n",
    "    Ksvar  = [Variable(D, D) for i in 1:M] # optimization variables\n",
    "    for iter in 1:niters\n",
    "        # optimize Kraus operators on right side of the density\n",
    "        rightobj = regobj(Kscurr, ρ0s, Ksvar, ρ1s, λ)\n",
    "        rightconstr = [krausnorm(Kscurr, Ksvar) ≤ I(D)]\n",
    "        rightproblem = minimize(rightobj, rightconstr)\n",
    "        solve!(rightproblem, SCS.Optimizer, silent_solver = true)\n",
    "\n",
    "        push!(regobjvals, evaluate(rightobj))\n",
    "        push!(opsdiffs, evaluate(opsdiff(Kscurr, Ksvar)))\n",
    "        Kscurr = [K.value for K in Ksvar]\n",
    "        push!(objvals, obj(ρ0s, ρ1s, Kscurr))\n",
    "\n",
    "        # optimize Kraus operators on left side of the density\n",
    "        leftobj = regobj(Ksvar, ρ0s, Kscurr, ρ1s, λ)\n",
    "        leftconstr = [krausnorm(Ksvar, Kscurr) ≤ I(D)]\n",
    "        leftproblem = minimize(leftobj, leftconstr)\n",
    "        solve!(leftproblem, SCS.Optimizer, silent_solver = true)\n",
    "\n",
    "        push!(regobjvals, evaluate(leftobj))\n",
    "        push!(opsdiffs, evaluate(opsdiff(Ksvar, Kscurr)))\n",
    "        Kscurr = [K.value for K in Ksvar]\n",
    "        push!(objvals, obj(ρ0s, ρ1s, Kscurr))\n",
    "    end\n",
    "    return Kscurr, objvals, regobjvals, opsdiffs\n",
    "end"
   ]
  },
  {
   "cell_type": "code",
   "execution_count": null,
   "metadata": {},
   "outputs": [],
   "source": [
    "function getobjsamples(params, nsamples; niters=100)\n",
    "    D, M, P, λ = params\n",
    "    objsamples = []\n",
    "    for i in 1:nsamples\n",
    "        # Generate data\n",
    "        ρ0s = [randomdensity(D) for _ in 1:P]           # generate random initial states\n",
    "        Kstrue = randomkraus(D, M)                      # generate random Kraus operators\n",
    "        ρ1s = [applychannel(ρ, Kstrue) for ρ in ρ0s]    # pass initial states through channel\n",
    "\n",
    "        Ksinit = randomkraus(D, M)\n",
    "        optKs, objvals, regobjvals, opdiffs = seqoptmult(ρ0s, ρ1s, Ksinit; λ, niters)\n",
    "        push!(objsamples, objvals)\n",
    "    end\n",
    "    return objsamples\n",
    "end\n",
    "\n",
    "sampleparams(allparams, nsamples; niters) = [getobjsamples(params, nsamples; niters) for params in allparams]"
   ]
  },
  {
   "cell_type": "code",
   "execution_count": null,
   "metadata": {},
   "outputs": [],
   "source": [
    "Ds = [2^1]      # number of dimensions\n",
    "Ms = [2]        # number of Kraus operators\n",
    "Ps = [10]       # number of datapoints\n",
    "nsamples = 5    # number of experiments to perform\n",
    "\n",
    "# Regularization\n",
    "nλs = 10\n",
    "λmin = 0.001\n",
    "λmax = 10\n",
    "λs = 10 .^ LinRange(log10(λmin), log10(λmax), nλs)\n",
    "\n",
    "allparams = Base.product(Ds, Ms, Ps, λs)\n",
    "allobjsN1λs = sampleparams(allparams, nsamples; niters=100);"
   ]
  },
  {
   "cell_type": "code",
   "execution_count": null,
   "metadata": {},
   "outputs": [],
   "source": [
    "labels = [\"λ = \" * string(round(λ, digits=3)) for (_, _, _, λ) in allparams]\n",
    "\n",
    "p = plot(layout=(length(labels) ÷ 2, 2), size=(1000, nλs * 150), left_margin=8Plots.mm, dpi=400)\n",
    "for i in eachindex(labels)\n",
    "    λobjs = allobjsN1λs[i]\n",
    "    plot!(p, λobjs, subplot=i, yscale=:log10, title=labels[i], xlabel=\"Iteration\", ylabel=\"Value\", label=nothing)\n",
    "end\n",
    "p"
   ]
  },
  {
   "cell_type": "code",
   "execution_count": null,
   "metadata": {},
   "outputs": [],
   "source": [
    "png(\"N1-M2-P10-lambda-sweep\")"
   ]
  },
  {
   "cell_type": "code",
   "execution_count": null,
   "metadata": {},
   "outputs": [],
   "source": [
    "λkeep =  [1, 4, 7, 10]\n",
    "subsetparams = collect(allparams)[:, :, :, λkeep]\n",
    "labels = [\"λ = \" * string(round(λ, digits=3)) for (_, _, _, λ) in subsetparams]\n",
    "\n",
    "p = plot(layout=(2, 2), size=(1400, 800), margin=10Plots.mm, dpi=400)\n",
    "for (i, λidx) in enumerate(λkeep)\n",
    "    λobjs = allobjsN1λs[λidx]\n",
    "    plot!(p, λobjs, subplot=i, yscale=:log10, title=labels[i], xlabel=\"Iteration\", ylabel=\"Objective value\", label=nothing)\n",
    "end\n",
    "p"
   ]
  },
  {
   "cell_type": "code",
   "execution_count": null,
   "metadata": {},
   "outputs": [],
   "source": [
    "png(\"N1-M2-lambda-subset\")"
   ]
  },
  {
   "cell_type": "code",
   "execution_count": null,
   "metadata": {},
   "outputs": [],
   "source": [
    "λkeep =  [1, 7, 10]\n",
    "subsetparams = collect(allparams)[:, :, :, λkeep]\n",
    "labels = [\"λ = \" * string(round(λ, digits=3)) for (_, _, _, λ) in subsetparams]\n",
    "\n",
    "p = plot(layout=(1, 3), size=(1600, 400), margin=8Plots.mm, dpi=400)\n",
    "for (i, λidx) in enumerate(λkeep)\n",
    "    λobjs = allobjsN1λs[λidx]\n",
    "    plot!(p, λobjs, subplot=i, yscale=:log10, title=labels[i], xlabel=\"Iteration\", ylabel=\"Objective value\", label=nothing)\n",
    "end\n",
    "p"
   ]
  },
  {
   "cell_type": "code",
   "execution_count": null,
   "metadata": {},
   "outputs": [],
   "source": [
    "png(\"N1-M2-lambda-subset3\")"
   ]
  },
  {
   "cell_type": "code",
   "execution_count": null,
   "metadata": {},
   "outputs": [],
   "source": [
    "Ds = [2^1]      # number of dimensions\n",
    "Ms = [2]        # number of Kraus operators\n",
    "Ps = [10]       # number of datapoints\n",
    "nsamples = 10    # number of experiments to perform\n",
    "\n",
    "# Regularization\n",
    "nλs = 10\n",
    "λmin = 0.05\n",
    "λmax = 1\n",
    "λs = 10 .^ LinRange(log10(λmin), log10(λmax), nλs)\n",
    "\n",
    "allparams = Base.product(Ds, Ms, Ps, λs)\n",
    "allobjsN1λsnarrow = sampleparams(allparams, nsamples; niters=100);"
   ]
  },
  {
   "cell_type": "code",
   "execution_count": null,
   "metadata": {},
   "outputs": [],
   "source": [
    "labels = [\"λ = \" * string(round(λ, digits=3)) for (_, _, _, λ) in allparams]\n",
    "\n",
    "p = plot(layout=(length(labels) ÷ 2, 2), size=(1000, nλs * 150), left_margin=8Plots.mm, dpi=400)\n",
    "for i in eachindex(labels)\n",
    "    λobjs = allobjsN1λsnarrow[i]\n",
    "    plot!(p, λobjs, subplot=i, yscale=:log10, title=labels[i], xlabel=\"Iteration\", ylabel=\"Objective value\", label=nothing)\n",
    "end\n",
    "p"
   ]
  },
  {
   "cell_type": "code",
   "execution_count": null,
   "metadata": {},
   "outputs": [],
   "source": [
    "png(\"N1-M2-P10-lambda05to1\")"
   ]
  },
  {
   "cell_type": "code",
   "execution_count": null,
   "metadata": {},
   "outputs": [],
   "source": [
    "Ds = [2^1]           # number of dimensions\n",
    "Ms = [4]    # number of Kraus operators\n",
    "Ps = [10]            # number of datapoints\n",
    "nsamples = 10         # number of experiments to perform\n",
    "λs = [0.3]         \n",
    "\n",
    "allparams = Base.product(Ds, Ms, Ps, λs)\n",
    "allobjsN1Ms = sampleparams(allparams, nsamples; niters=100);"
   ]
  },
  {
   "cell_type": "code",
   "execution_count": null,
   "metadata": {},
   "outputs": [],
   "source": [
    "labels = [\"M = \" * string(M) for (_, M, _, _) in allparams]\n",
    "\n",
    "p = plot(layout=(length(labels) ÷ 2, 2), size=(1000, nλs * 80), left_margin=8Plots.mm, dpi=400)\n",
    "for i in eachindex(labels)\n",
    "    λobjs = allobjsN1Ms[i]\n",
    "    plot!(p, λobjs, subplot=i, yscale=:log10, title=labels[i], xlabel=\"Iteration\", ylabel=\"Objective value\", label=nothing)\n",
    "end\n",
    "p"
   ]
  },
  {
   "cell_type": "code",
   "execution_count": null,
   "metadata": {},
   "outputs": [],
   "source": [
    "png(\"N1-M1to4-P10-lambda03\")"
   ]
  },
  {
   "cell_type": "code",
   "execution_count": null,
   "metadata": {},
   "outputs": [],
   "source": [
    "Ds = [2^2]           # number of dimensions\n",
    "Ms = [2, 4, 8]    # number of Kraus operators\n",
    "Ps = [10]            # number of datapoints\n",
    "nsamples = 5         # number of experiments to perform\n",
    "λs = [0.05]         \n",
    "\n",
    "allparams = Base.product(Ds, Ms, Ps, λs)\n",
    "allobjsN2Ms = sampleparams(allparams, nsamples; niters=100);"
   ]
  },
  {
   "cell_type": "code",
   "execution_count": null,
   "metadata": {},
   "outputs": [],
   "source": [
    "labels = [\"M = \" * string(M) for (_, M, _, _) in allparams]\n",
    "\n",
    "p = plot(layout=(1, length(labels)), size=(1500, 400), margin=8Plots.mm, dpi=400)\n",
    "for i in eachindex(labels)\n",
    "    λobjs = allobjsN2Ms[i]\n",
    "    plot!(p, λobjs, subplot=i, yscale=:log10, title=labels[i], xlabel=\"Iteration\", ylabel=\"Objective value\", label=nothing)\n",
    "end\n",
    "p"
   ]
  },
  {
   "cell_type": "code",
   "execution_count": null,
   "metadata": {},
   "outputs": [],
   "source": [
    "png(\"N2-M248-P10-lambda03\")"
   ]
  },
  {
   "cell_type": "code",
   "execution_count": null,
   "metadata": {},
   "outputs": [],
   "source": [
    "Ds = [2^3]           # number of dimensions\n",
    "Ms = [8]    # number of Kraus operators\n",
    "Ps = [10]            # number of datapoints\n",
    "nsamples = 5         # number of experiments to perform\n",
    "λs = [0.05]         \n",
    "\n",
    "allparams = Base.product(Ds, Ms, Ps, λs)\n",
    "allobjsN3Ms = sampleparams(allparams, nsamples; niters=100);"
   ]
  },
  {
   "cell_type": "code",
   "execution_count": null,
   "metadata": {},
   "outputs": [],
   "source": [
    "labels = [\"M = \" * string(M) for (_, M, _, _) in allparams]\n",
    "\n",
    "p = plot(layout=(1, length(labels)), size=(1500, 400), margin=8Plots.mm, dpi=400)\n",
    "for i in eachindex(labels)\n",
    "    λobjs = allobjsN3Ms[i]\n",
    "    plot!(p, λobjs, subplot=i, yscale=:log10, title=labels[i], xlabel=\"Iteration\", ylabel=\"Objective value\", label=nothing)\n",
    "end\n",
    "p"
   ]
  },
  {
   "cell_type": "code",
   "execution_count": null,
   "metadata": {},
   "outputs": [],
   "source": [
    "png(\"N3-M1to4-P10-lambda03\")"
   ]
  },
  {
   "cell_type": "code",
   "execution_count": null,
   "metadata": {},
   "outputs": [],
   "source": [
    "Ds = [2^2]\n",
    "Ms = [8]\n",
    "Ps = 2 .^ LinRange(log2(8), log2(256), 6)\n",
    "nsamples = 5\n",
    "λs = [0.3]         \n",
    "\n",
    "allparams = Base.product(Ds, Ms, Ps, λs)\n",
    "# allobjsnN2Ps = sampleparams(allparams, nsamples; niters=50);"
   ]
  },
  {
   "cell_type": "code",
   "execution_count": null,
   "metadata": {},
   "outputs": [],
   "source": [
    "labels = [\"P = \" * string(Int(floor(P))) for (_, _, P, _) in allparams]\n",
    "\n",
    "p = plot(layout=(2, 3), size=(1500, 800), margin=8Plots.mm, top_margin=0Plots.mm, dpi=400)\n",
    "for i in eachindex(labels)\n",
    "    objs = allobjsnN2Ps[i]\n",
    "    plot!(p, objs, subplot=i, yscale=:log10, title=labels[i], xlabel=\"Iteration\", ylabel=\"Objective value\", label=nothing)\n",
    "end\n",
    "p"
   ]
  },
  {
   "cell_type": "code",
   "execution_count": null,
   "metadata": {},
   "outputs": [],
   "source": [
    "png(\"N2-M8-P16to256-lambda03\")"
   ]
  },
  {
   "cell_type": "code",
   "execution_count": null,
   "metadata": {},
   "outputs": [],
   "source": [
    "subparams = collect(allparams)[:, :, [2, 4, 6], :]\n",
    "labels = [\"P = \" * string(Int(floor(P))) for (_, _, P, _) in subparams]\n",
    "\n",
    "p = plot(layout=(1, 3), size=(1600, 400), margin=8Plots.mm, top_margin=0Plots.mm, dpi=400)\n",
    "for i in eachindex(labels)\n",
    "    objs = allobjsnN2Ps[i]\n",
    "    plot!(p, objs, subplot=i, yscale=:log10, title=labels[i], xlabel=\"Iteration\", ylabel=\"Objective value\", label=nothing)\n",
    "end\n",
    "p"
   ]
  },
  {
   "cell_type": "code",
   "execution_count": null,
   "metadata": {},
   "outputs": [],
   "source": [
    "png(\"N2-M8-P16to256-lambda03-subset\")"
   ]
  },
  {
   "cell_type": "code",
   "execution_count": null,
   "metadata": {},
   "outputs": [],
   "source": [
    "N1M4 = allobjsN1Ms[end]\n",
    "N2M8 = allobjsN2Ms[end]\n",
    "N3M8 = allobjsN3Ms[end]\n",
    "\n",
    "p = plot(layout=(1, 3), size=(1500, 400), left_margin=8Plots.mm, bottom_margin=8Plots.mm, dpi=400)\n",
    "plot!(p, N1M4, subplot=1, yscale=:log10, title=\"D = 2, M = 4\", xlabel=\"Iteration\", ylabel=\"Objective value\", label=nothing)\n",
    "plot!(p, N2M8, subplot=2, yscale=:log10, title=\"D = 4, M = 8\", xlabel=\"Iteration\", ylabel=\"Objective value\", label=nothing)\n",
    "plot!(p, N3M8, subplot=3, yscale=:log10, title=\"D = 8, M = 8\", xlabel=\"Iteration\", ylabel=\"Objective value\", label=nothing)"
   ]
  },
  {
   "cell_type": "code",
   "execution_count": null,
   "metadata": {},
   "outputs": [],
   "source": [
    "png(\"N123\")"
   ]
  },
  {
   "cell_type": "code",
   "execution_count": null,
   "metadata": {},
   "outputs": [],
   "source": []
  }
 ],
 "metadata": {
  "kernelspec": {
   "display_name": "Julia 1.10.3",
   "language": "julia",
   "name": "julia-1.10"
  },
  "language_info": {
   "file_extension": ".jl",
   "mimetype": "application/julia",
   "name": "julia",
   "version": "1.10.3"
  }
 },
 "nbformat": 4,
 "nbformat_minor": 2
}
